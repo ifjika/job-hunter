{
 "cells": [
  {
   "cell_type": "code",
   "execution_count": 1,
   "id": "192e9e55",
   "metadata": {},
   "outputs": [],
   "source": [
    "import fitz"
   ]
  },
  {
   "cell_type": "code",
   "execution_count": 5,
   "id": "d8093879",
   "metadata": {},
   "outputs": [
    {
     "name": "stdout",
     "output_type": "stream",
     "text": [
      "Asri Winda Lestari S.\n",
      "Kontak\n",
      "C u s t o m e r  s e r v i c e / A d m i n  G u d a n g\n",
      "Pengalaman Kerja\n",
      "Pendidikan\n",
      "Profil\n",
      "Menjadi Customer Service selama 2 tahun memberi\n",
      "saya pembelajaran tentang komunikasi yang baik\n",
      "antar tim,di ajarkan bekerja pintar, memberi ilmu\n",
      "penyelesaian masalah dan memperdalam skill di MS\n",
      "Word, penggunaan Excel,Power Point, hingga Canva.\n",
      "Mendapat skill berbicara yang baik dan dibiasakan\n",
      "menjadi pendengar yang baik.\n",
      "0812 8726 3554\n",
      "windasinaga89@gmail.com\n",
      "Perum. Benda Baru\n",
      "Jl.Bhayangkara blok E27/No.18,\n",
      "Benda Baru, Pamulang\n",
      "Fakultas Ilmu Bahasa\n",
      "Inggris\n",
      "Bina Sarana Informatika \n",
      "Skill\n",
      "Ms Word\n",
      "Excel\n",
      "Power Point\n",
      "Canva\n",
      "Membuat Prakarya\n",
      "Mendongeng\n",
      "Berinteraksi dengan anak\n",
      "Mampu bekerja dalam\n",
      " tim\n",
      "2010-2013\n",
      "Menyambut customer yang datang ke toko offline dan\n",
      " menjelaskan produk perusahaan pada customer\n",
      "Membalas chat via WhatsAp & Telepon\n",
      "Membuat laporan harian\n",
      "Costomer Service Offline Store (Contrack)\n",
      "Apr 2018 - Nov 2018\n",
      "Bertanggung jawab atas keluar dan masuk barang\n",
      " poroduksi\n",
      "Melakukan stokopname berkala dan membuat laporan\n",
      " stokopname\n",
      "Melaporkan ketersediaan barang produksi & mengatur\n",
      " pembelian ke supplier\n",
      "Warehouse Admin\n",
      "Nov 2018 - Sept 2021\n",
      "Membalas chat via WhatsApp,chat e-commerce &\n",
      " Menjawab pertanyaan saat offline di event\n",
      "Menjelaskan dan menawarkan program/produk\n",
      " perusahaan pada customer \n",
      "Mengirim undangan secara broadcast dengan\n",
      " tamplate yg sudah disediakan\n",
      "Customer Support\n",
      "Mar 2022 - Jun 2023\n",
      "\n"
     ]
    }
   ],
   "source": [
    "def extractTextFromPddf(file_path):\n",
    "    doc = fitz.open(file_path)\n",
    "    text = ''\n",
    "    for page in doc:\n",
    "        text += page.get_text()\n",
    "    return text\n",
    "\n",
    "resume_text = extractTextFromPddf(\"CV.pdf\")\n",
    "print(resume_text)"
   ]
  },
  {
   "cell_type": "code",
   "execution_count": 6,
   "id": "e2bb9ea6",
   "metadata": {},
   "outputs": [
    {
     "name": "stdout",
     "output_type": "stream",
     "text": [
      "Asri Winda Lestari S.\n",
      "Kontak\n",
      "C u s t o m e r s e r v i c e / A d m i n G u d a n g\n",
      "Pengalaman Kerja\n",
      "Pendidikan\n",
      "Profil\n",
      "Menjadi Customer Service selama 2 tahun memberi\n",
      "saya pembelajaran tentang komunikasi yang baik\n",
      "antar tim,di ajarkan bekerja pintar, memberi ilmu\n",
      "penyelesaian masalah dan memperdalam skill di MS\n",
      "Word, penggunaan Excel,Power Point, hingga Canva.\n",
      "Mendapat skill berbicara yang baik dan dibiasakan\n",
      "menjadi pendengar yang baik.\n",
      "0812 8726 3554\n",
      "windasinaga89@gmail.com\n",
      "Perum. Benda Baru\n",
      "Jl.Bhayangkara blok E27/No.18,\n",
      "Benda Baru, Pamulang\n",
      "Fakultas Ilmu Bahasa\n",
      "Inggris\n",
      "Bina Sarana Informatika Skill\n",
      "Ms Word\n",
      "Excel\n",
      "Power Point\n",
      "Canva\n",
      "Membuat Prakarya\n",
      "Mendongeng\n",
      "Berinteraksi dengan anak\n",
      "Mampu bekerja dalam tim\n",
      "2010-2013\n",
      "Menyambut customer yang datang ke toko offline dan menjelaskan produk perusahaan pada customer\n",
      "Membalas chat via WhatsAp & Telepon\n",
      "Membuat laporan harian\n",
      "Costomer Service Offline Store (Contrack)\n",
      "Apr 2018 - Nov 2018\n",
      "Bertanggung jawab atas keluar dan masuk barang poroduksi\n",
      "Melakukan stokopname berkala dan membuat laporan stokopname\n",
      "Melaporkan ketersediaan barang produksi & mengatur pembelian ke supplier\n",
      "Warehouse Admin\n",
      "Nov 2018 - Sept 2021\n",
      "Membalas chat via WhatsApp,chat e-commerce & Menjawab pertanyaan saat offline di event\n",
      "Menjelaskan dan menawarkan program/produk perusahaan pada customer Mengirim undangan secara broadcast dengan tamplate yg sudah disediakan\n",
      "Customer Support\n",
      "Mar 2022 - Jun 2023\n"
     ]
    }
   ],
   "source": [
    "import re\n",
    "\n",
    "def cleanText(text):\n",
    "    text = re.sub(r'\\n+', '\\n', text)\n",
    "    text = re.sub(r'\\s{2,}', ' ', text)\n",
    "    return text.strip()\n",
    "\n",
    "cleaned_resume = cleanText(resume_text)\n",
    "print(cleaned_resume)"
   ]
  }
 ],
 "metadata": {
  "kernelspec": {
   "display_name": "venv",
   "language": "python",
   "name": "python3"
  },
  "language_info": {
   "codemirror_mode": {
    "name": "ipython",
    "version": 3
   },
   "file_extension": ".py",
   "mimetype": "text/x-python",
   "name": "python",
   "nbconvert_exporter": "python",
   "pygments_lexer": "ipython3",
   "version": "3.13.5"
  }
 },
 "nbformat": 4,
 "nbformat_minor": 5
}
